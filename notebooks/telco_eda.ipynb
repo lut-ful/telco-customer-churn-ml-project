{
 "cells": [
  {
   "cell_type": "code",
   "execution_count": 1,
   "metadata": {},
   "outputs": [
    {
     "data": {
      "text/plain": [
       "(7043, 21)"
      ]
     },
     "execution_count": 1,
     "metadata": {},
     "output_type": "execute_result"
    }
   ],
   "source": [
    "import pandas as pd\n",
    "import numpy as np\n",
    "raw_data_path='../data-source/telco_customer_churn_raw.csv'\n",
    "data=pd.read_csv(raw_data_path)\n",
    "data.shape"
   ]
  },
  {
   "cell_type": "code",
   "execution_count": 2,
   "metadata": {},
   "outputs": [
    {
     "data": {
      "text/html": [
       "<div>\n",
       "<style scoped>\n",
       "    .dataframe tbody tr th:only-of-type {\n",
       "        vertical-align: middle;\n",
       "    }\n",
       "\n",
       "    .dataframe tbody tr th {\n",
       "        vertical-align: top;\n",
       "    }\n",
       "\n",
       "    .dataframe thead th {\n",
       "        text-align: right;\n",
       "    }\n",
       "</style>\n",
       "<table border=\"1\" class=\"dataframe\">\n",
       "  <thead>\n",
       "    <tr style=\"text-align: right;\">\n",
       "      <th></th>\n",
       "      <th>customerID</th>\n",
       "      <th>gender</th>\n",
       "      <th>SeniorCitizen</th>\n",
       "      <th>Partner</th>\n",
       "      <th>Dependents</th>\n",
       "      <th>tenure</th>\n",
       "      <th>PhoneService</th>\n",
       "      <th>MultipleLines</th>\n",
       "      <th>InternetService</th>\n",
       "      <th>OnlineSecurity</th>\n",
       "      <th>...</th>\n",
       "      <th>DeviceProtection</th>\n",
       "      <th>TechSupport</th>\n",
       "      <th>StreamingTV</th>\n",
       "      <th>StreamingMovies</th>\n",
       "      <th>Contract</th>\n",
       "      <th>PaperlessBilling</th>\n",
       "      <th>PaymentMethod</th>\n",
       "      <th>MonthlyCharges</th>\n",
       "      <th>TotalCharges</th>\n",
       "      <th>Churn</th>\n",
       "    </tr>\n",
       "  </thead>\n",
       "  <tbody>\n",
       "    <tr>\n",
       "      <th>0</th>\n",
       "      <td>7590-VHVEG</td>\n",
       "      <td>Female</td>\n",
       "      <td>0</td>\n",
       "      <td>Yes</td>\n",
       "      <td>No</td>\n",
       "      <td>1</td>\n",
       "      <td>No</td>\n",
       "      <td>No phone service</td>\n",
       "      <td>DSL</td>\n",
       "      <td>No</td>\n",
       "      <td>...</td>\n",
       "      <td>No</td>\n",
       "      <td>No</td>\n",
       "      <td>No</td>\n",
       "      <td>No</td>\n",
       "      <td>Month-to-month</td>\n",
       "      <td>Yes</td>\n",
       "      <td>Electronic check</td>\n",
       "      <td>29.85</td>\n",
       "      <td>29.85</td>\n",
       "      <td>No</td>\n",
       "    </tr>\n",
       "    <tr>\n",
       "      <th>1</th>\n",
       "      <td>5575-GNVDE</td>\n",
       "      <td>Male</td>\n",
       "      <td>0</td>\n",
       "      <td>No</td>\n",
       "      <td>No</td>\n",
       "      <td>34</td>\n",
       "      <td>Yes</td>\n",
       "      <td>No</td>\n",
       "      <td>DSL</td>\n",
       "      <td>Yes</td>\n",
       "      <td>...</td>\n",
       "      <td>Yes</td>\n",
       "      <td>No</td>\n",
       "      <td>No</td>\n",
       "      <td>No</td>\n",
       "      <td>One year</td>\n",
       "      <td>No</td>\n",
       "      <td>Mailed check</td>\n",
       "      <td>56.95</td>\n",
       "      <td>1889.5</td>\n",
       "      <td>No</td>\n",
       "    </tr>\n",
       "    <tr>\n",
       "      <th>2</th>\n",
       "      <td>3668-QPYBK</td>\n",
       "      <td>Male</td>\n",
       "      <td>0</td>\n",
       "      <td>No</td>\n",
       "      <td>No</td>\n",
       "      <td>2</td>\n",
       "      <td>Yes</td>\n",
       "      <td>No</td>\n",
       "      <td>DSL</td>\n",
       "      <td>Yes</td>\n",
       "      <td>...</td>\n",
       "      <td>No</td>\n",
       "      <td>No</td>\n",
       "      <td>No</td>\n",
       "      <td>No</td>\n",
       "      <td>Month-to-month</td>\n",
       "      <td>Yes</td>\n",
       "      <td>Mailed check</td>\n",
       "      <td>53.85</td>\n",
       "      <td>108.15</td>\n",
       "      <td>Yes</td>\n",
       "    </tr>\n",
       "    <tr>\n",
       "      <th>3</th>\n",
       "      <td>7795-CFOCW</td>\n",
       "      <td>Male</td>\n",
       "      <td>0</td>\n",
       "      <td>No</td>\n",
       "      <td>No</td>\n",
       "      <td>45</td>\n",
       "      <td>No</td>\n",
       "      <td>No phone service</td>\n",
       "      <td>DSL</td>\n",
       "      <td>Yes</td>\n",
       "      <td>...</td>\n",
       "      <td>Yes</td>\n",
       "      <td>Yes</td>\n",
       "      <td>No</td>\n",
       "      <td>No</td>\n",
       "      <td>One year</td>\n",
       "      <td>No</td>\n",
       "      <td>Bank transfer (automatic)</td>\n",
       "      <td>42.30</td>\n",
       "      <td>1840.75</td>\n",
       "      <td>No</td>\n",
       "    </tr>\n",
       "    <tr>\n",
       "      <th>4</th>\n",
       "      <td>9237-HQITU</td>\n",
       "      <td>Female</td>\n",
       "      <td>0</td>\n",
       "      <td>No</td>\n",
       "      <td>No</td>\n",
       "      <td>2</td>\n",
       "      <td>Yes</td>\n",
       "      <td>No</td>\n",
       "      <td>Fiber optic</td>\n",
       "      <td>No</td>\n",
       "      <td>...</td>\n",
       "      <td>No</td>\n",
       "      <td>No</td>\n",
       "      <td>No</td>\n",
       "      <td>No</td>\n",
       "      <td>Month-to-month</td>\n",
       "      <td>Yes</td>\n",
       "      <td>Electronic check</td>\n",
       "      <td>70.70</td>\n",
       "      <td>151.65</td>\n",
       "      <td>Yes</td>\n",
       "    </tr>\n",
       "  </tbody>\n",
       "</table>\n",
       "<p>5 rows × 21 columns</p>\n",
       "</div>"
      ],
      "text/plain": [
       "   customerID  gender  SeniorCitizen Partner Dependents  tenure PhoneService  \\\n",
       "0  7590-VHVEG  Female              0     Yes         No       1           No   \n",
       "1  5575-GNVDE    Male              0      No         No      34          Yes   \n",
       "2  3668-QPYBK    Male              0      No         No       2          Yes   \n",
       "3  7795-CFOCW    Male              0      No         No      45           No   \n",
       "4  9237-HQITU  Female              0      No         No       2          Yes   \n",
       "\n",
       "      MultipleLines InternetService OnlineSecurity  ... DeviceProtection  \\\n",
       "0  No phone service             DSL             No  ...               No   \n",
       "1                No             DSL            Yes  ...              Yes   \n",
       "2                No             DSL            Yes  ...               No   \n",
       "3  No phone service             DSL            Yes  ...              Yes   \n",
       "4                No     Fiber optic             No  ...               No   \n",
       "\n",
       "  TechSupport StreamingTV StreamingMovies        Contract PaperlessBilling  \\\n",
       "0          No          No              No  Month-to-month              Yes   \n",
       "1          No          No              No        One year               No   \n",
       "2          No          No              No  Month-to-month              Yes   \n",
       "3         Yes          No              No        One year               No   \n",
       "4          No          No              No  Month-to-month              Yes   \n",
       "\n",
       "               PaymentMethod MonthlyCharges  TotalCharges Churn  \n",
       "0           Electronic check          29.85         29.85    No  \n",
       "1               Mailed check          56.95        1889.5    No  \n",
       "2               Mailed check          53.85        108.15   Yes  \n",
       "3  Bank transfer (automatic)          42.30       1840.75    No  \n",
       "4           Electronic check          70.70        151.65   Yes  \n",
       "\n",
       "[5 rows x 21 columns]"
      ]
     },
     "execution_count": 2,
     "metadata": {},
     "output_type": "execute_result"
    }
   ],
   "source": [
    "data.head()"
   ]
  },
  {
   "cell_type": "code",
   "execution_count": 3,
   "metadata": {},
   "outputs": [],
   "source": [
    "data.drop(columns=['customerID'],inplace=True)"
   ]
  },
  {
   "cell_type": "code",
   "execution_count": 4,
   "metadata": {},
   "outputs": [
    {
     "name": "stdout",
     "output_type": "stream",
     "text": [
      "<class 'pandas.core.frame.DataFrame'>\n",
      "RangeIndex: 7043 entries, 0 to 7042\n",
      "Data columns (total 20 columns):\n",
      " #   Column            Non-Null Count  Dtype  \n",
      "---  ------            --------------  -----  \n",
      " 0   gender            7043 non-null   object \n",
      " 1   SeniorCitizen     7043 non-null   int64  \n",
      " 2   Partner           7043 non-null   object \n",
      " 3   Dependents        7043 non-null   object \n",
      " 4   tenure            7043 non-null   int64  \n",
      " 5   PhoneService      7043 non-null   object \n",
      " 6   MultipleLines     7043 non-null   object \n",
      " 7   InternetService   7043 non-null   object \n",
      " 8   OnlineSecurity    7043 non-null   object \n",
      " 9   OnlineBackup      7043 non-null   object \n",
      " 10  DeviceProtection  7043 non-null   object \n",
      " 11  TechSupport       7043 non-null   object \n",
      " 12  StreamingTV       7043 non-null   object \n",
      " 13  StreamingMovies   7043 non-null   object \n",
      " 14  Contract          7043 non-null   object \n",
      " 15  PaperlessBilling  7043 non-null   object \n",
      " 16  PaymentMethod     7043 non-null   object \n",
      " 17  MonthlyCharges    7043 non-null   float64\n",
      " 18  TotalCharges      7043 non-null   object \n",
      " 19  Churn             7043 non-null   object \n",
      "dtypes: float64(1), int64(2), object(17)\n",
      "memory usage: 1.1+ MB\n"
     ]
    }
   ],
   "source": [
    "data.info()"
   ]
  },
  {
   "cell_type": "code",
   "execution_count": 5,
   "metadata": {},
   "outputs": [
    {
     "name": "stdout",
     "output_type": "stream",
     "text": [
      "fgender : ['Female' 'Male']\n",
      "fPartner : ['Yes' 'No']\n",
      "fDependents : ['No' 'Yes']\n",
      "fPhoneService : ['No' 'Yes']\n",
      "fMultipleLines : ['No phone service' 'No' 'Yes']\n",
      "fInternetService : ['DSL' 'Fiber optic' 'No']\n",
      "fOnlineSecurity : ['No' 'Yes' 'No internet service']\n",
      "fOnlineBackup : ['Yes' 'No' 'No internet service']\n",
      "fDeviceProtection : ['No' 'Yes' 'No internet service']\n",
      "fTechSupport : ['No' 'Yes' 'No internet service']\n",
      "fStreamingTV : ['No' 'Yes' 'No internet service']\n",
      "fStreamingMovies : ['No' 'Yes' 'No internet service']\n",
      "fContract : ['Month-to-month' 'One year' 'Two year']\n",
      "fPaperlessBilling : ['Yes' 'No']\n",
      "fPaymentMethod : ['Electronic check' 'Mailed check' 'Bank transfer (automatic)'\n",
      " 'Credit card (automatic)']\n",
      "fTotalCharges : ['29.85' '1889.5' '108.15' ... '346.45' '306.6' '6844.5']\n",
      "fChurn : ['No' 'Yes']\n"
     ]
    }
   ],
   "source": [
    "for feature in data.select_dtypes(include='object').columns:\n",
    "    print(f\"f{feature} : {data[feature].unique()}\")"
   ]
  },
  {
   "cell_type": "code",
   "execution_count": 6,
   "metadata": {},
   "outputs": [
    {
     "data": {
      "text/plain": [
       "gender              0\n",
       "SeniorCitizen       0\n",
       "Partner             0\n",
       "Dependents          0\n",
       "tenure              0\n",
       "PhoneService        0\n",
       "MultipleLines       0\n",
       "InternetService     0\n",
       "OnlineSecurity      0\n",
       "OnlineBackup        0\n",
       "DeviceProtection    0\n",
       "TechSupport         0\n",
       "StreamingTV         0\n",
       "StreamingMovies     0\n",
       "Contract            0\n",
       "PaperlessBilling    0\n",
       "PaymentMethod       0\n",
       "MonthlyCharges      0\n",
       "TotalCharges        0\n",
       "Churn               0\n",
       "dtype: int64"
      ]
     },
     "execution_count": 6,
     "metadata": {},
     "output_type": "execute_result"
    }
   ],
   "source": [
    "data.isnull().sum()"
   ]
  },
  {
   "cell_type": "code",
   "execution_count": 7,
   "metadata": {},
   "outputs": [
    {
     "name": "stderr",
     "output_type": "stream",
     "text": [
      "/tmp/ipykernel_43000/3424268845.py:1: FutureWarning: Downcasting behavior in `replace` is deprecated and will be removed in a future version. To retain the old behavior, explicitly call `result.infer_objects(copy=False)`. To opt-in to the future behavior, set `pd.set_option('future.no_silent_downcasting', True)`\n",
      "  data['Churn']=data['Churn'].replace({'Yes':1,'No':0}).astype(int)\n"
     ]
    },
    {
     "data": {
      "text/plain": [
       "dtype('int64')"
      ]
     },
     "execution_count": 7,
     "metadata": {},
     "output_type": "execute_result"
    }
   ],
   "source": [
    "data['Churn']=data['Churn'].replace({'Yes':1,'No':0}).astype(int)\n",
    "data['Churn'].dtype"
   ]
  },
  {
   "cell_type": "code",
   "execution_count": 8,
   "metadata": {},
   "outputs": [
    {
     "data": {
      "text/plain": [
       "dtype('float64')"
      ]
     },
     "execution_count": 8,
     "metadata": {},
     "output_type": "execute_result"
    }
   ],
   "source": [
    "data['TotalCharges']=data['TotalCharges'].replace(' ',None).astype(float)\n",
    "data['TotalCharges'].dtype"
   ]
  },
  {
   "cell_type": "code",
   "execution_count": 9,
   "metadata": {},
   "outputs": [
    {
     "data": {
      "text/plain": [
       "Index(['gender', 'SeniorCitizen', 'Partner', 'Dependents', 'tenure',\n",
       "       'PhoneService', 'MultipleLines', 'InternetService', 'OnlineSecurity',\n",
       "       'OnlineBackup', 'DeviceProtection', 'TechSupport', 'StreamingTV',\n",
       "       'StreamingMovies', 'Contract', 'PaperlessBilling', 'PaymentMethod',\n",
       "       'MonthlyCharges', 'TotalCharges', 'Churn'],\n",
       "      dtype='object')"
      ]
     },
     "execution_count": 9,
     "metadata": {},
     "output_type": "execute_result"
    }
   ],
   "source": [
    "data.columns"
   ]
  },
  {
   "cell_type": "code",
   "execution_count": 10,
   "metadata": {},
   "outputs": [
    {
     "data": {
      "text/plain": [
       "20"
      ]
     },
     "execution_count": 10,
     "metadata": {},
     "output_type": "execute_result"
    }
   ],
   "source": [
    "len(data.columns)"
   ]
  },
  {
   "cell_type": "code",
   "execution_count": 11,
   "metadata": {},
   "outputs": [
    {
     "data": {
      "text/html": [
       "<div>\n",
       "<style scoped>\n",
       "    .dataframe tbody tr th:only-of-type {\n",
       "        vertical-align: middle;\n",
       "    }\n",
       "\n",
       "    .dataframe tbody tr th {\n",
       "        vertical-align: top;\n",
       "    }\n",
       "\n",
       "    .dataframe thead th {\n",
       "        text-align: right;\n",
       "    }\n",
       "</style>\n",
       "<table border=\"1\" class=\"dataframe\">\n",
       "  <thead>\n",
       "    <tr style=\"text-align: right;\">\n",
       "      <th></th>\n",
       "      <th>gender</th>\n",
       "      <th>SeniorCitizen</th>\n",
       "      <th>Partner</th>\n",
       "      <th>Dependents</th>\n",
       "      <th>tenure</th>\n",
       "      <th>PhoneService</th>\n",
       "      <th>MultipleLines</th>\n",
       "      <th>InternetService</th>\n",
       "      <th>OnlineSecurity</th>\n",
       "      <th>OnlineBackup</th>\n",
       "      <th>DeviceProtection</th>\n",
       "      <th>TechSupport</th>\n",
       "      <th>StreamingTV</th>\n",
       "      <th>StreamingMovies</th>\n",
       "      <th>Contract</th>\n",
       "      <th>PaperlessBilling</th>\n",
       "      <th>PaymentMethod</th>\n",
       "      <th>MonthlyCharges</th>\n",
       "      <th>TotalCharges</th>\n",
       "      <th>Churn</th>\n",
       "    </tr>\n",
       "  </thead>\n",
       "  <tbody>\n",
       "    <tr>\n",
       "      <th>0</th>\n",
       "      <td>Female</td>\n",
       "      <td>0</td>\n",
       "      <td>Yes</td>\n",
       "      <td>No</td>\n",
       "      <td>1</td>\n",
       "      <td>No</td>\n",
       "      <td>No phone service</td>\n",
       "      <td>DSL</td>\n",
       "      <td>No</td>\n",
       "      <td>Yes</td>\n",
       "      <td>No</td>\n",
       "      <td>No</td>\n",
       "      <td>No</td>\n",
       "      <td>No</td>\n",
       "      <td>Month-to-month</td>\n",
       "      <td>Yes</td>\n",
       "      <td>Electronic check</td>\n",
       "      <td>29.85</td>\n",
       "      <td>29.85</td>\n",
       "      <td>0</td>\n",
       "    </tr>\n",
       "    <tr>\n",
       "      <th>1</th>\n",
       "      <td>Male</td>\n",
       "      <td>0</td>\n",
       "      <td>No</td>\n",
       "      <td>No</td>\n",
       "      <td>34</td>\n",
       "      <td>Yes</td>\n",
       "      <td>No</td>\n",
       "      <td>DSL</td>\n",
       "      <td>Yes</td>\n",
       "      <td>No</td>\n",
       "      <td>Yes</td>\n",
       "      <td>No</td>\n",
       "      <td>No</td>\n",
       "      <td>No</td>\n",
       "      <td>One year</td>\n",
       "      <td>No</td>\n",
       "      <td>Mailed check</td>\n",
       "      <td>56.95</td>\n",
       "      <td>1889.50</td>\n",
       "      <td>0</td>\n",
       "    </tr>\n",
       "    <tr>\n",
       "      <th>2</th>\n",
       "      <td>Male</td>\n",
       "      <td>0</td>\n",
       "      <td>No</td>\n",
       "      <td>No</td>\n",
       "      <td>2</td>\n",
       "      <td>Yes</td>\n",
       "      <td>No</td>\n",
       "      <td>DSL</td>\n",
       "      <td>Yes</td>\n",
       "      <td>Yes</td>\n",
       "      <td>No</td>\n",
       "      <td>No</td>\n",
       "      <td>No</td>\n",
       "      <td>No</td>\n",
       "      <td>Month-to-month</td>\n",
       "      <td>Yes</td>\n",
       "      <td>Mailed check</td>\n",
       "      <td>53.85</td>\n",
       "      <td>108.15</td>\n",
       "      <td>1</td>\n",
       "    </tr>\n",
       "    <tr>\n",
       "      <th>3</th>\n",
       "      <td>Male</td>\n",
       "      <td>0</td>\n",
       "      <td>No</td>\n",
       "      <td>No</td>\n",
       "      <td>45</td>\n",
       "      <td>No</td>\n",
       "      <td>No phone service</td>\n",
       "      <td>DSL</td>\n",
       "      <td>Yes</td>\n",
       "      <td>No</td>\n",
       "      <td>Yes</td>\n",
       "      <td>Yes</td>\n",
       "      <td>No</td>\n",
       "      <td>No</td>\n",
       "      <td>One year</td>\n",
       "      <td>No</td>\n",
       "      <td>Bank transfer (automatic)</td>\n",
       "      <td>42.30</td>\n",
       "      <td>1840.75</td>\n",
       "      <td>0</td>\n",
       "    </tr>\n",
       "    <tr>\n",
       "      <th>4</th>\n",
       "      <td>Female</td>\n",
       "      <td>0</td>\n",
       "      <td>No</td>\n",
       "      <td>No</td>\n",
       "      <td>2</td>\n",
       "      <td>Yes</td>\n",
       "      <td>No</td>\n",
       "      <td>Fiber optic</td>\n",
       "      <td>No</td>\n",
       "      <td>No</td>\n",
       "      <td>No</td>\n",
       "      <td>No</td>\n",
       "      <td>No</td>\n",
       "      <td>No</td>\n",
       "      <td>Month-to-month</td>\n",
       "      <td>Yes</td>\n",
       "      <td>Electronic check</td>\n",
       "      <td>70.70</td>\n",
       "      <td>151.65</td>\n",
       "      <td>1</td>\n",
       "    </tr>\n",
       "  </tbody>\n",
       "</table>\n",
       "</div>"
      ],
      "text/plain": [
       "   gender  SeniorCitizen Partner Dependents  tenure PhoneService  \\\n",
       "0  Female              0     Yes         No       1           No   \n",
       "1    Male              0      No         No      34          Yes   \n",
       "2    Male              0      No         No       2          Yes   \n",
       "3    Male              0      No         No      45           No   \n",
       "4  Female              0      No         No       2          Yes   \n",
       "\n",
       "      MultipleLines InternetService OnlineSecurity OnlineBackup  \\\n",
       "0  No phone service             DSL             No          Yes   \n",
       "1                No             DSL            Yes           No   \n",
       "2                No             DSL            Yes          Yes   \n",
       "3  No phone service             DSL            Yes           No   \n",
       "4                No     Fiber optic             No           No   \n",
       "\n",
       "  DeviceProtection TechSupport StreamingTV StreamingMovies        Contract  \\\n",
       "0               No          No          No              No  Month-to-month   \n",
       "1              Yes          No          No              No        One year   \n",
       "2               No          No          No              No  Month-to-month   \n",
       "3              Yes         Yes          No              No        One year   \n",
       "4               No          No          No              No  Month-to-month   \n",
       "\n",
       "  PaperlessBilling              PaymentMethod  MonthlyCharges  TotalCharges  \\\n",
       "0              Yes           Electronic check           29.85         29.85   \n",
       "1               No               Mailed check           56.95       1889.50   \n",
       "2              Yes               Mailed check           53.85        108.15   \n",
       "3               No  Bank transfer (automatic)           42.30       1840.75   \n",
       "4              Yes           Electronic check           70.70        151.65   \n",
       "\n",
       "   Churn  \n",
       "0      0  \n",
       "1      0  \n",
       "2      1  \n",
       "3      0  \n",
       "4      1  "
      ]
     },
     "execution_count": 11,
     "metadata": {},
     "output_type": "execute_result"
    }
   ],
   "source": [
    "data.to_csv('../data-source/clean_telco_customer_data.csv', index=False)\n",
    "data.head()"
   ]
  },
  {
   "cell_type": "code",
   "execution_count": 12,
   "metadata": {},
   "outputs": [
    {
     "name": "stdout",
     "output_type": "stream",
     "text": [
      "(5634, 19)\n",
      "(1409, 19)\n",
      "(5634,)\n",
      "(1409,)\n"
     ]
    }
   ],
   "source": [
    "# Separate dependent and independent features\n",
    "X = data.drop(\"Churn\", axis=1)\n",
    "y = data[\"Churn\"]\n",
    "\n",
    "categorical_features=X.select_dtypes(include='object').columns\n",
    "numerical_features=X.select_dtypes(exclude='object').columns\n",
    "\n",
    "# Train-test split\n",
    "from sklearn.model_selection import train_test_split\n",
    "X_train, X_test, y_train, y_test = train_test_split(X, y, test_size=0.20, random_state=42)\n",
    "\n",
    "# Display the shapes of the train and test sets\n",
    "print(X_train.shape)\n",
    "print(X_test.shape)\n",
    "print(y_train.shape)\n",
    "print(y_test.shape)"
   ]
  },
  {
   "cell_type": "code",
   "execution_count": 14,
   "metadata": {},
   "outputs": [],
   "source": [
    "# Feature Engineering\n",
    "# Perform feature engineering, including encoding categorical variables and scaling numerical features.\n",
    "\n",
    "from sklearn.preprocessing import LabelEncoder, StandardScaler\n",
    "from sklearn.compose import ColumnTransformer\n",
    "from sklearn.pipeline import Pipeline\n",
    "from sklearn.impute import SimpleImputer\n",
    "\n",
    "# Encode categorical features using LabelEncoder\n",
    "label_encoder = LabelEncoder()\n",
    "for feature in categorical_features:\n",
    "    data[feature] = label_encoder.fit_transform(data[feature])\n",
    "\n",
    "# Define numerical and categorical pipelines\n",
    "numerical_pipeline = Pipeline(steps=[\n",
    "    ('imputer', SimpleImputer(strategy='median')),\n",
    "    ('scaler', StandardScaler())\n",
    "])\n",
    "\n",
    "from sklearn.preprocessing import OneHotEncoder\n",
    "\n",
    "categorical_pipeline = Pipeline(steps=[\n",
    "    ('imputer', SimpleImputer(strategy='most_frequent')),\n",
    "    ('encoder', OneHotEncoder())\n",
    "])\n",
    "\n",
    "# Combine numerical and categorical pipelines into a single ColumnTransformer\n",
    "preprocessor = ColumnTransformer(transformers=[\n",
    "    ('num', numerical_pipeline, numerical_features),\n",
    "    ('cat', categorical_pipeline, categorical_features)\n",
    "])\n",
    "\n",
    "# Apply the transformations to the data\n",
    "X_train = preprocessor.fit_transform(X_train)\n",
    "X_test=preprocessor.transform(X_test)\n"
   ]
  },
  {
   "cell_type": "code",
   "execution_count": 15,
   "metadata": {},
   "outputs": [
    {
     "data": {
      "text/plain": [
       "array([[-4.37749204e-01, -4.65683364e-01, -4.73723375e-04, ...,\n",
       "         0.00000000e+00,  0.00000000e+00,  1.00000000e+00],\n",
       "       [-4.37749204e-01,  8.85536787e-01,  1.07475386e+00, ...,\n",
       "         0.00000000e+00,  0.00000000e+00,  0.00000000e+00],\n",
       "       [-4.37749204e-01, -1.28460467e+00, -1.37649913e+00, ...,\n",
       "         0.00000000e+00,  1.00000000e+00,  0.00000000e+00],\n",
       "       ...,\n",
       "       [-4.37749204e-01, -8.34197950e-01, -1.45294499e+00, ...,\n",
       "         0.00000000e+00,  1.00000000e+00,  0.00000000e+00],\n",
       "       [ 2.28441306e+00, -8.34197950e-01,  1.14953785e+00, ...,\n",
       "         0.00000000e+00,  1.00000000e+00,  0.00000000e+00],\n",
       "       [-4.37749204e-01, -2.60953038e-01, -1.49781538e+00, ...,\n",
       "         1.00000000e+00,  0.00000000e+00,  0.00000000e+00]])"
      ]
     },
     "execution_count": 15,
     "metadata": {},
     "output_type": "execute_result"
    }
   ],
   "source": [
    "X_train"
   ]
  },
  {
   "cell_type": "code",
   "execution_count": 16,
   "metadata": {},
   "outputs": [
    {
     "data": {
      "text/plain": [
       "array([[-0.4377492 , -1.28460467, -1.33162874, ...,  0.        ,\n",
       "         1.        ,  0.        ],\n",
       "       [-0.4377492 ,  0.35323794, -1.31667194, ...,  0.        ,\n",
       "         0.        ,  0.        ],\n",
       "       [-0.4377492 ,  0.80364466, -1.51277218, ...,  0.        ,\n",
       "         0.        ,  1.        ],\n",
       "       ...,\n",
       "       [-0.4377492 , -0.62946762, -1.49449165, ...,  0.        ,\n",
       "         0.        ,  0.        ],\n",
       "       [-0.4377492 ,  1.49972776, -0.69513389, ...,  1.        ,\n",
       "         0.        ,  0.        ],\n",
       "       [-0.4377492 , -1.28460467, -1.11392424, ...,  0.        ,\n",
       "         0.        ,  1.        ]])"
      ]
     },
     "execution_count": 16,
     "metadata": {},
     "output_type": "execute_result"
    }
   ],
   "source": [
    "X_test"
   ]
  },
  {
   "cell_type": "code",
   "execution_count": 17,
   "metadata": {},
   "outputs": [
    {
     "name": "stdout",
     "output_type": "stream",
     "text": [
      "Fitting 5 folds for each of 24 candidates, totalling 120 fits\n",
      "[CV 2/5] END C=0.001, class_weight=balanced, penalty=l1, solver=liblinear;, score=0.735 total time=   0.0s\n",
      "[CV 1/5] END C=0.001, class_weight=balanced, penalty=l1, solver=liblinear;, score=0.735 total time=   0.0s\n",
      "[CV 4/5] END C=0.001, class_weight=balanced, penalty=l1, solver=liblinear;, score=0.734 total time=   0.0s\n",
      "[CV 1/5] END C=0.001, class_weight=balanced, penalty=l1, solver=saga;, score=0.735 total time=   0.1s\n",
      "[CV 4/5] END C=0.001, class_weight=balanced, penalty=l1, solver=saga;, score=0.266 total time=   0.1s\n",
      "[CV 1/5] END C=0.001, class_weight=balanced, penalty=l2, solver=liblinear;, score=0.736 total time=   0.0s\n",
      "[CV 2/5] END C=0.001, class_weight=balanced, penalty=l2, solver=liblinear;, score=0.728 total time=   0.0s\n",
      "[CV 3/5] END C=0.001, class_weight=balanced, penalty=l2, solver=liblinear;, score=0.727 total time=   0.0s\n",
      "[CV 5/5] END C=0.001, class_weight=balanced, penalty=l1, solver=saga;, score=0.734 total time=   0.1s\n",
      "[CV 4/5] END C=0.001, class_weight=balanced, penalty=l2, solver=liblinear;, score=0.717 total time=   0.0s\n",
      "[CV 5/5] END C=0.001, class_weight=balanced, penalty=l1, solver=liblinear;, score=0.734 total time=   0.0s\n",
      "[CV 3/5] END C=0.001, class_weight=balanced, penalty=l1, solver=liblinear;, score=0.735 total time=   0.1s\n",
      "[CV 2/5] END C=0.001, class_weight=balanced, penalty=l1, solver=saga;, score=0.735 total time=   0.1s\n",
      "[CV 5/5] END C=0.001, class_weight=balanced, penalty=l2, solver=liblinear;, score=0.734 total time=   0.0s\n",
      "[CV 2/5] END C=0.01, class_weight=balanced, penalty=l1, solver=liblinear;, score=0.719 total time=   0.0s\n",
      "[CV 1/5] END C=0.01, class_weight=balanced, penalty=l1, solver=liblinear;, score=0.722 total time=   0.0s\n",
      "[CV 3/5] END C=0.01, class_weight=balanced, penalty=l1, solver=liblinear;, score=0.705 total time=   0.0s\n",
      "[CV 2/5] END C=0.001, class_weight=balanced, penalty=l2, solver=saga;, score=0.738 total time=   0.2s\n",
      "[CV 4/5] END C=0.01, class_weight=balanced, penalty=l1, solver=liblinear;, score=0.720 total time=   0.0s\n",
      "[CV 1/5] END C=0.001, class_weight=balanced, penalty=l2, solver=saga;, score=0.752 total time=   0.2s\n",
      "[CV 4/5] END C=0.001, class_weight=balanced, penalty=l2, solver=saga;, score=0.719 total time=   0.2s\n",
      "[CV 3/5] END C=0.001, class_weight=balanced, penalty=l2, solver=saga;, score=0.736 total time=   0.2s\n",
      "[CV 5/5] END C=0.01, class_weight=balanced, penalty=l1, solver=liblinear;, score=0.731 total time=   0.1s\n",
      "[CV 1/5] END C=0.01, class_weight=balanced, penalty=l2, solver=liblinear;, score=0.758 total time=   0.0s\n",
      "[CV 5/5] END C=0.001, class_weight=balanced, penalty=l2, solver=saga;, score=0.748 total time=   0.2s\n",
      "[CV 2/5] END C=0.01, class_weight=balanced, penalty=l2, solver=liblinear;, score=0.750 total time=   0.0s\n",
      "[CV 3/5] END C=0.01, class_weight=balanced, penalty=l2, solver=liblinear;, score=0.741 total time=   0.1s[CV 4/5] END C=0.01, class_weight=balanced, penalty=l2, solver=liblinear;, score=0.728 total time=   0.1s\n",
      "\n",
      "[CV 3/5] END C=0.001, class_weight=balanced, penalty=l1, solver=saga;, score=0.735 total time=   0.2s\n",
      "[CV 3/5] END C=0.01, class_weight=balanced, penalty=l1, solver=saga;, score=0.735 total time=   0.3s\n",
      "[CV 5/5] END C=0.01, class_weight=balanced, penalty=l2, solver=liblinear;, score=0.752 total time=   0.1s\n",
      "[CV 1/5] END C=0.01, class_weight=balanced, penalty=l1, solver=saga;, score=0.738 total time=   0.3s\n",
      "[CV 2/5] END C=0.01, class_weight=balanced, penalty=l1, solver=saga;, score=0.738 total time=   0.3s\n",
      "[CV 4/5] END C=0.01, class_weight=balanced, penalty=l1, solver=saga;, score=0.733 total time=   0.3s\n",
      "[CV 5/5] END C=0.01, class_weight=balanced, penalty=l1, solver=saga;, score=0.745 total time=   0.3s\n",
      "[CV 2/5] END C=0.1, class_weight=balanced, penalty=l1, solver=liblinear;, score=0.742 total time=   0.2s\n",
      "[CV 1/5] END C=0.1, class_weight=balanced, penalty=l1, solver=liblinear;, score=0.747 total time=   0.2s\n",
      "[CV 3/5] END C=0.1, class_weight=balanced, penalty=l1, solver=liblinear;, score=0.738 total time=   0.1s\n",
      "[CV 2/5] END C=0.01, class_weight=balanced, penalty=l2, solver=saga;, score=0.747 total time=   0.3s\n",
      "[CV 3/5] END C=0.01, class_weight=balanced, penalty=l2, solver=saga;, score=0.744 total time=   0.3s\n",
      "[CV 1/5] END C=0.01, class_weight=balanced, penalty=l2, solver=saga;, score=0.756 total time=   0.4s\n",
      "[CV 4/5] END C=0.1, class_weight=balanced, penalty=l1, solver=liblinear;, score=0.733 total time=   0.1s\n",
      "[CV 5/5] END C=0.1, class_weight=balanced, penalty=l1, solver=liblinear;, score=0.750 total time=   0.1s\n",
      "[CV 4/5] END C=0.01, class_weight=balanced, penalty=l2, solver=saga;, score=0.730 total time=   0.4s\n",
      "[CV 5/5] END C=0.01, class_weight=balanced, penalty=l2, solver=saga;, score=0.750 total time=   0.4s\n",
      "[CV 3/5] END C=0.1, class_weight=balanced, penalty=l2, solver=liblinear;, score=0.738 total time=   0.1s\n",
      "[CV 2/5] END C=0.1, class_weight=balanced, penalty=l2, solver=liblinear;, score=0.743 total time=   0.1s\n",
      "[CV 1/5] END C=0.1, class_weight=balanced, penalty=l2, solver=liblinear;, score=0.755 total time=   0.1s\n",
      "[CV 4/5] END C=0.1, class_weight=balanced, penalty=l2, solver=liblinear;, score=0.732 total time=   0.1s\n",
      "[CV 5/5] END C=0.1, class_weight=balanced, penalty=l2, solver=liblinear;, score=0.753 total time=   0.1s\n",
      "[CV 2/5] END C=0.1, class_weight=balanced, penalty=l1, solver=saga;, score=0.737 total time=   0.3s\n",
      "[CV 3/5] END C=0.1, class_weight=balanced, penalty=l1, solver=saga;, score=0.739 total time=   0.3s\n",
      "[CV 1/5] END C=0.1, class_weight=balanced, penalty=l1, solver=saga;, score=0.752 total time=   0.4s\n",
      "[CV 5/5] END C=0.1, class_weight=balanced, penalty=l1, solver=saga;, score=0.754 total time=   0.3s\n",
      "[CV 4/5] END C=0.1, class_weight=balanced, penalty=l1, solver=saga;, score=0.728 total time=   0.4s\n",
      "[CV 1/5] END C=1, class_weight=balanced, penalty=l1, solver=liblinear;, score=0.750 total time=   0.2s\n",
      "[CV 3/5] END C=1, class_weight=balanced, penalty=l1, solver=liblinear;, score=0.734 total time=   0.2s\n",
      "[CV 4/5] END C=1, class_weight=balanced, penalty=l1, solver=liblinear;, score=0.729 total time=   0.2s\n",
      "[CV 5/5] END C=1, class_weight=balanced, penalty=l1, solver=liblinear;, score=0.755 total time=   0.2s\n",
      "[CV 2/5] END C=0.1, class_weight=balanced, penalty=l2, solver=saga;, score=0.741 total time=   0.9s\n",
      "[CV 1/5] END C=0.1, class_weight=balanced, penalty=l2, solver=saga;, score=0.756 total time=   0.9s\n",
      "[CV 4/5] END C=0.1, class_weight=balanced, penalty=l2, solver=saga;, score=0.732 total time=   0.8s\n",
      "[CV 5/5] END C=0.1, class_weight=balanced, penalty=l2, solver=saga;, score=0.752 total time=   0.8s\n",
      "[CV 3/5] END C=0.1, class_weight=balanced, penalty=l2, solver=saga;, score=0.738 total time=   0.9s\n",
      "[CV 1/5] END C=1, class_weight=balanced, penalty=l2, solver=liblinear;, score=0.752 total time=   0.1s\n",
      "[CV 2/5] END C=1, class_weight=balanced, penalty=l2, solver=liblinear;, score=0.744 total time=   0.1s\n",
      "[CV 3/5] END C=1, class_weight=balanced, penalty=l2, solver=liblinear;, score=0.732 total time=   0.1s\n",
      "[CV 4/5] END C=1, class_weight=balanced, penalty=l2, solver=liblinear;, score=0.728 total time=   0.0s\n",
      "[CV 2/5] END C=1, class_weight=balanced, penalty=l1, solver=saga;, score=0.744 total time=   0.6s\n",
      "[CV 5/5] END C=1, class_weight=balanced, penalty=l2, solver=liblinear;, score=0.750 total time=   0.1s\n",
      "[CV 1/5] END C=1, class_weight=balanced, penalty=l1, solver=saga;, score=0.751 total time=   0.8s\n",
      "[CV 2/5] END C=1, class_weight=balanced, penalty=l1, solver=liblinear;, score=0.744 total time=   1.2s\n"
     ]
    },
    {
     "name": "stderr",
     "output_type": "stream",
     "text": [
      "/home/lutful/telco-customer-churn-ml-project/.myenv/lib/python3.12/site-packages/sklearn/linear_model/_sag.py:349: ConvergenceWarning: The max_iter was reached which means the coef_ did not converge\n",
      "  warnings.warn(\n",
      "/home/lutful/telco-customer-churn-ml-project/.myenv/lib/python3.12/site-packages/sklearn/linear_model/_sag.py:349: ConvergenceWarning: The max_iter was reached which means the coef_ did not converge\n",
      "  warnings.warn(\n",
      "/home/lutful/telco-customer-churn-ml-project/.myenv/lib/python3.12/site-packages/sklearn/linear_model/_sag.py:349: ConvergenceWarning: The max_iter was reached which means the coef_ did not converge\n",
      "  warnings.warn(\n",
      "/home/lutful/telco-customer-churn-ml-project/.myenv/lib/python3.12/site-packages/sklearn/linear_model/_sag.py:349: ConvergenceWarning: The max_iter was reached which means the coef_ did not converge\n",
      "  warnings.warn(\n"
     ]
    },
    {
     "name": "stdout",
     "output_type": "stream",
     "text": [
      "[CV 3/5] END C=1, class_weight=balanced, penalty=l1, solver=saga;, score=0.735 total time=   1.3s\n",
      "[CV 5/5] END C=1, class_weight=balanced, penalty=l1, solver=saga;, score=0.755 total time=   1.4s\n",
      "[CV 3/5] END C=1, class_weight=balanced, penalty=l2, solver=saga;, score=0.732 total time=   1.2s\n",
      "[CV 2/5] END C=1, class_weight=balanced, penalty=l2, solver=saga;, score=0.744 total time=   1.3s\n",
      "[CV 4/5] END C=1, class_weight=balanced, penalty=l1, solver=saga;, score=0.727 total time=   1.6s\n",
      "[CV 1/5] END C=1, class_weight=balanced, penalty=l2, solver=saga;, score=0.753 total time=   1.4s\n"
     ]
    },
    {
     "name": "stderr",
     "output_type": "stream",
     "text": [
      "/home/lutful/telco-customer-churn-ml-project/.myenv/lib/python3.12/site-packages/sklearn/linear_model/_sag.py:349: ConvergenceWarning: The max_iter was reached which means the coef_ did not converge\n",
      "  warnings.warn(\n",
      "/home/lutful/telco-customer-churn-ml-project/.myenv/lib/python3.12/site-packages/sklearn/linear_model/_sag.py:349: ConvergenceWarning: The max_iter was reached which means the coef_ did not converge\n",
      "  warnings.warn(\n",
      "/home/lutful/telco-customer-churn-ml-project/.myenv/lib/python3.12/site-packages/sklearn/linear_model/_sag.py:349: ConvergenceWarning: The max_iter was reached which means the coef_ did not converge\n",
      "  warnings.warn(\n",
      "/home/lutful/telco-customer-churn-ml-project/.myenv/lib/python3.12/site-packages/sklearn/linear_model/_sag.py:349: ConvergenceWarning: The max_iter was reached which means the coef_ did not converge\n",
      "  warnings.warn(\n"
     ]
    },
    {
     "name": "stdout",
     "output_type": "stream",
     "text": [
      "[CV 5/5] END C=1, class_weight=balanced, penalty=l2, solver=saga;, score=0.750 total time=   1.2s\n",
      "[CV 4/5] END C=1, class_weight=balanced, penalty=l2, solver=saga;, score=0.728 total time=   1.6s\n",
      "[CV 2/5] END C=10, class_weight=balanced, penalty=l1, solver=liblinear;, score=0.741 total time=   1.5s\n",
      "[CV 3/5] END C=10, class_weight=balanced, penalty=l1, solver=liblinear;, score=0.731 total time=   1.6s\n",
      "[CV 1/5] END C=10, class_weight=balanced, penalty=l1, solver=liblinear;, score=0.754 total time=   1.8s\n",
      "[CV 1/5] END C=10, class_weight=balanced, penalty=l2, solver=liblinear;, score=0.753 total time=   0.1s\n",
      "[CV 2/5] END C=10, class_weight=balanced, penalty=l1, solver=saga;, score=0.741 total time=   1.5s\n"
     ]
    },
    {
     "name": "stderr",
     "output_type": "stream",
     "text": [
      "/home/lutful/telco-customer-churn-ml-project/.myenv/lib/python3.12/site-packages/sklearn/linear_model/_sag.py:349: ConvergenceWarning: The max_iter was reached which means the coef_ did not converge\n",
      "  warnings.warn(\n"
     ]
    },
    {
     "name": "stdout",
     "output_type": "stream",
     "text": [
      "[CV 2/5] END C=10, class_weight=balanced, penalty=l2, solver=liblinear;, score=0.739 total time=   0.1s\n",
      "[CV 3/5] END C=10, class_weight=balanced, penalty=l2, solver=liblinear;, score=0.730 total time=   0.1s\n",
      "[CV 5/5] END C=10, class_weight=balanced, penalty=l1, solver=liblinear;, score=0.751 total time=   1.8s\n",
      "[CV 4/5] END C=10, class_weight=balanced, penalty=l2, solver=liblinear;, score=0.728 total time=   0.1s\n",
      "[CV 5/5] END C=10, class_weight=balanced, penalty=l2, solver=liblinear;, score=0.750 total time=   0.1s\n",
      "[CV 1/5] END C=10, class_weight=balanced, penalty=l1, solver=saga;, score=0.753 total time=   1.9s\n"
     ]
    },
    {
     "name": "stderr",
     "output_type": "stream",
     "text": [
      "/home/lutful/telco-customer-churn-ml-project/.myenv/lib/python3.12/site-packages/sklearn/linear_model/_sag.py:349: ConvergenceWarning: The max_iter was reached which means the coef_ did not converge\n",
      "  warnings.warn(\n"
     ]
    },
    {
     "name": "stdout",
     "output_type": "stream",
     "text": [
      "[CV 4/5] END C=10, class_weight=balanced, penalty=l1, solver=liblinear;, score=0.728 total time=   2.2s\n",
      "[CV 3/5] END C=10, class_weight=balanced, penalty=l1, solver=saga;, score=0.730 total time=   1.9s\n"
     ]
    },
    {
     "name": "stderr",
     "output_type": "stream",
     "text": [
      "/home/lutful/telco-customer-churn-ml-project/.myenv/lib/python3.12/site-packages/sklearn/linear_model/_sag.py:349: ConvergenceWarning: The max_iter was reached which means the coef_ did not converge\n",
      "  warnings.warn(\n",
      "/home/lutful/telco-customer-churn-ml-project/.myenv/lib/python3.12/site-packages/sklearn/linear_model/_sag.py:349: ConvergenceWarning: The max_iter was reached which means the coef_ did not converge\n",
      "  warnings.warn(\n"
     ]
    },
    {
     "name": "stdout",
     "output_type": "stream",
     "text": [
      "[CV 4/5] END C=10, class_weight=balanced, penalty=l1, solver=saga;, score=0.728 total time=   1.5s\n"
     ]
    },
    {
     "name": "stderr",
     "output_type": "stream",
     "text": [
      "/home/lutful/telco-customer-churn-ml-project/.myenv/lib/python3.12/site-packages/sklearn/linear_model/_sag.py:349: ConvergenceWarning: The max_iter was reached which means the coef_ did not converge\n",
      "  warnings.warn(\n",
      "/home/lutful/telco-customer-churn-ml-project/.myenv/lib/python3.12/site-packages/sklearn/linear_model/_sag.py:349: ConvergenceWarning: The max_iter was reached which means the coef_ did not converge\n",
      "  warnings.warn(\n",
      "/home/lutful/telco-customer-churn-ml-project/.myenv/lib/python3.12/site-packages/sklearn/linear_model/_sag.py:349: ConvergenceWarning: The max_iter was reached which means the coef_ did not converge\n",
      "  warnings.warn(\n"
     ]
    },
    {
     "name": "stdout",
     "output_type": "stream",
     "text": [
      "[CV 5/5] END C=10, class_weight=balanced, penalty=l1, solver=saga;, score=0.751 total time=   1.9s\n",
      "[CV 3/5] END C=10, class_weight=balanced, penalty=l2, solver=saga;, score=0.731 total time=   1.5s\n",
      "[CV 2/5] END C=10, class_weight=balanced, penalty=l2, solver=saga;, score=0.740 total time=   1.6s\n"
     ]
    },
    {
     "name": "stderr",
     "output_type": "stream",
     "text": [
      "/home/lutful/telco-customer-churn-ml-project/.myenv/lib/python3.12/site-packages/sklearn/linear_model/_sag.py:349: ConvergenceWarning: The max_iter was reached which means the coef_ did not converge\n",
      "  warnings.warn(\n",
      "/home/lutful/telco-customer-churn-ml-project/.myenv/lib/python3.12/site-packages/sklearn/linear_model/_sag.py:349: ConvergenceWarning: The max_iter was reached which means the coef_ did not converge\n",
      "  warnings.warn(\n"
     ]
    },
    {
     "name": "stdout",
     "output_type": "stream",
     "text": [
      "[CV 1/5] END C=10, class_weight=balanced, penalty=l2, solver=saga;, score=0.753 total time=   2.0s\n",
      "[CV 4/5] END C=10, class_weight=balanced, penalty=l2, solver=saga;, score=0.728 total time=   2.0s\n"
     ]
    },
    {
     "name": "stderr",
     "output_type": "stream",
     "text": [
      "/home/lutful/telco-customer-churn-ml-project/.myenv/lib/python3.12/site-packages/sklearn/linear_model/_sag.py:349: ConvergenceWarning: The max_iter was reached which means the coef_ did not converge\n",
      "  warnings.warn(\n"
     ]
    },
    {
     "name": "stdout",
     "output_type": "stream",
     "text": [
      "[CV 5/5] END C=10, class_weight=balanced, penalty=l2, solver=saga;, score=0.751 total time=   2.1s\n",
      "[CV 2/5] END C=100, class_weight=balanced, penalty=l1, solver=liblinear;, score=0.738 total time=   2.4s\n"
     ]
    },
    {
     "name": "stderr",
     "output_type": "stream",
     "text": [
      "/home/lutful/telco-customer-churn-ml-project/.myenv/lib/python3.12/site-packages/sklearn/linear_model/_sag.py:349: ConvergenceWarning: The max_iter was reached which means the coef_ did not converge\n",
      "  warnings.warn(\n",
      "/home/lutful/telco-customer-churn-ml-project/.myenv/lib/python3.12/site-packages/sklearn/linear_model/_sag.py:349: ConvergenceWarning: The max_iter was reached which means the coef_ did not converge\n",
      "  warnings.warn(\n",
      "/home/lutful/telco-customer-churn-ml-project/.myenv/lib/python3.12/site-packages/sklearn/linear_model/_sag.py:349: ConvergenceWarning: The max_iter was reached which means the coef_ did not converge\n",
      "  warnings.warn(\n"
     ]
    },
    {
     "name": "stdout",
     "output_type": "stream",
     "text": [
      "[CV 1/5] END C=100, class_weight=balanced, penalty=l1, solver=saga;, score=0.752 total time=   1.9s\n",
      "[CV 2/5] END C=100, class_weight=balanced, penalty=l1, solver=saga;, score=0.738 total time=   1.8s\n",
      "[CV 1/5] END C=100, class_weight=balanced, penalty=l2, solver=liblinear;, score=0.751 total time=   0.1s\n",
      "[CV 3/5] END C=100, class_weight=balanced, penalty=l1, solver=saga;, score=0.730 total time=   1.6s\n",
      "[CV 2/5] END C=100, class_weight=balanced, penalty=l2, solver=liblinear;, score=0.738 total time=   0.1s\n",
      "[CV 3/5] END C=100, class_weight=balanced, penalty=l2, solver=liblinear;, score=0.730 total time=   0.1s\n",
      "[CV 3/5] END C=100, class_weight=balanced, penalty=l1, solver=liblinear;, score=0.730 total time=   2.7s\n",
      "[CV 4/5] END C=100, class_weight=balanced, penalty=l2, solver=liblinear;, score=0.727 total time=   0.1s\n",
      "[CV 5/5] END C=100, class_weight=balanced, penalty=l1, solver=liblinear;, score=0.750 total time=   2.6s\n",
      "[CV 5/5] END C=100, class_weight=balanced, penalty=l2, solver=liblinear;, score=0.751 total time=   0.1s\n",
      "[CV 1/5] END C=100, class_weight=balanced, penalty=l1, solver=liblinear;, score=0.751 total time=   4.0s\n"
     ]
    },
    {
     "name": "stderr",
     "output_type": "stream",
     "text": [
      "/home/lutful/telco-customer-churn-ml-project/.myenv/lib/python3.12/site-packages/sklearn/linear_model/_sag.py:349: ConvergenceWarning: The max_iter was reached which means the coef_ did not converge\n",
      "  warnings.warn(\n"
     ]
    },
    {
     "name": "stdout",
     "output_type": "stream",
     "text": [
      "[CV 4/5] END C=100, class_weight=balanced, penalty=l1, solver=saga;, score=0.728 total time=   1.3s\n",
      "[CV 4/5] END C=100, class_weight=balanced, penalty=l1, solver=liblinear;, score=0.728 total time=   3.4s\n"
     ]
    },
    {
     "name": "stderr",
     "output_type": "stream",
     "text": [
      "/home/lutful/telco-customer-churn-ml-project/.myenv/lib/python3.12/site-packages/sklearn/linear_model/_sag.py:349: ConvergenceWarning: The max_iter was reached which means the coef_ did not converge\n",
      "  warnings.warn(\n",
      "/home/lutful/telco-customer-churn-ml-project/.myenv/lib/python3.12/site-packages/sklearn/linear_model/_sag.py:349: ConvergenceWarning: The max_iter was reached which means the coef_ did not converge\n",
      "  warnings.warn(\n",
      "/home/lutful/telco-customer-churn-ml-project/.myenv/lib/python3.12/site-packages/sklearn/linear_model/_sag.py:349: ConvergenceWarning: The max_iter was reached which means the coef_ did not converge\n",
      "  warnings.warn(\n",
      "/home/lutful/telco-customer-churn-ml-project/.myenv/lib/python3.12/site-packages/sklearn/linear_model/_sag.py:349: ConvergenceWarning: The max_iter was reached which means the coef_ did not converge\n",
      "  warnings.warn(\n",
      "/home/lutful/telco-customer-churn-ml-project/.myenv/lib/python3.12/site-packages/sklearn/linear_model/_sag.py:349: ConvergenceWarning: The max_iter was reached which means the coef_ did not converge\n",
      "  warnings.warn(\n",
      "/home/lutful/telco-customer-churn-ml-project/.myenv/lib/python3.12/site-packages/sklearn/linear_model/_sag.py:349: ConvergenceWarning: The max_iter was reached which means the coef_ did not converge\n",
      "  warnings.warn(\n"
     ]
    },
    {
     "name": "stdout",
     "output_type": "stream",
     "text": [
      "[CV 5/5] END C=100, class_weight=balanced, penalty=l1, solver=saga;, score=0.750 total time=   1.3s\n",
      "[CV 1/5] END C=100, class_weight=balanced, penalty=l2, solver=saga;, score=0.752 total time=   1.0s\n",
      "[CV 3/5] END C=100, class_weight=balanced, penalty=l2, solver=saga;, score=0.731 total time=   0.9s\n",
      "[CV 2/5] END C=100, class_weight=balanced, penalty=l2, solver=saga;, score=0.738 total time=   1.0s\n",
      "[CV 4/5] END C=100, class_weight=balanced, penalty=l2, solver=saga;, score=0.728 total time=   1.0s\n",
      "[CV 5/5] END C=100, class_weight=balanced, penalty=l2, solver=saga;, score=0.750 total time=   0.9s\n",
      "Best parameters for Logistic Regression: {'C': 0.01, 'class_weight': 'balanced', 'penalty': 'l2', 'solver': 'liblinear'}\n",
      "CONFUSION_MATRIX: \n",
      "[[760 276]\n",
      " [ 64 309]]\n",
      "PRECISION_SCORE: 0.5282051282051282\n",
      "RECALL_SCORE: 0.8284182305630027\n",
      "F1_SCORE: 0.6450939457202505\n",
      "ACCURACY_SCORE: 0.758694109297374\n"
     ]
    },
    {
     "name": "stderr",
     "output_type": "stream",
     "text": [
      "/home/lutful/telco-customer-churn-ml-project/.myenv/lib/python3.12/site-packages/sklearn/model_selection/_validation.py:540: FitFailedWarning: \n",
      "960 fits failed out of a total of 2880.\n",
      "The score on these train-test partitions for these parameters will be set to nan.\n",
      "If these failures are not expected, you can try to debug them by setting error_score='raise'.\n",
      "\n",
      "Below are more details about the failures:\n",
      "--------------------------------------------------------------------------------\n",
      "960 fits failed with the following error:\n",
      "Traceback (most recent call last):\n",
      "  File \"/home/lutful/telco-customer-churn-ml-project/.myenv/lib/python3.12/site-packages/sklearn/model_selection/_validation.py\", line 888, in _fit_and_score\n",
      "    estimator.fit(X_train, y_train, **fit_params)\n",
      "  File \"/home/lutful/telco-customer-churn-ml-project/.myenv/lib/python3.12/site-packages/sklearn/base.py\", line 1466, in wrapper\n",
      "    estimator._validate_params()\n",
      "  File \"/home/lutful/telco-customer-churn-ml-project/.myenv/lib/python3.12/site-packages/sklearn/base.py\", line 666, in _validate_params\n",
      "    validate_parameter_constraints(\n",
      "  File \"/home/lutful/telco-customer-churn-ml-project/.myenv/lib/python3.12/site-packages/sklearn/utils/_param_validation.py\", line 95, in validate_parameter_constraints\n",
      "    raise InvalidParameterError(\n",
      "sklearn.utils._param_validation.InvalidParameterError: The 'max_features' parameter of DecisionTreeClassifier must be an int in the range [1, inf), a float in the range (0.0, 1.0], a str among {'sqrt', 'log2'} or None. Got 'auto' instead.\n",
      "\n",
      "  warnings.warn(some_fits_failed_message, FitFailedWarning)\n",
      "/home/lutful/telco-customer-churn-ml-project/.myenv/lib/python3.12/site-packages/numpy/ma/core.py:2820: RuntimeWarning: invalid value encountered in cast\n",
      "  _data = np.array(data, dtype=dtype, copy=copy,\n",
      "/home/lutful/telco-customer-churn-ml-project/.myenv/lib/python3.12/site-packages/sklearn/model_selection/_search.py:1103: UserWarning: One or more of the test scores are non-finite: [       nan        nan        nan        nan        nan        nan\n",
      "        nan        nan        nan        nan        nan        nan\n",
      "        nan        nan        nan        nan        nan        nan\n",
      "        nan        nan        nan        nan        nan        nan\n",
      " 0.69293981 0.67891067 0.70215713 0.68406559 0.6975543  0.62158846\n",
      " 0.6977346  0.65903884 0.68512091 0.68919608 0.7044758  0.65371591\n",
      " 0.69151349 0.6815652  0.69188212 0.67855575 0.64377487 0.68158112\n",
      " 0.69719512 0.70110796 0.68956881 0.68265172 0.67626261 0.6869094\n",
      " 0.69453303 0.69648385 0.69346715 0.66649241 0.68956345 0.71405672\n",
      " 0.69222097 0.67287522 0.66471905 0.6672084  0.69454201 0.68423943\n",
      " 0.65779408 0.64253705 0.71104206 0.68460192 0.71796309 0.69418015\n",
      " 0.68938867 0.69720221 0.68494281 0.64625603 0.70481686 0.68441058\n",
      "        nan        nan        nan        nan        nan        nan\n",
      "        nan        nan        nan        nan        nan        nan\n",
      "        nan        nan        nan        nan        nan        nan\n",
      "        nan        nan        nan        nan        nan        nan\n",
      " 0.69240947 0.68867961 0.68850057 0.69116109 0.72079855 0.71600912\n",
      " 0.69293587 0.70678265 0.70447549 0.71051283 0.73588694 0.69613429\n",
      " 0.73624707 0.70820566 0.68796251 0.69719023 0.7154709  0.702342\n",
      " 0.71387516 0.70394326 0.7026985  0.69169363 0.70820125 0.69098804\n",
      " 0.69435761 0.69488338 0.68316992 0.68211082 0.68565392 0.68033951\n",
      " 0.68104447 0.69187361 0.68513493 0.69807944 0.69968306 0.6998591\n",
      " 0.68991649 0.70109945 0.69311396 0.71565687 0.70802284 0.69755556\n",
      " 0.69027173 0.70376847 0.70038976 0.6979078  0.7160099  0.70766933\n",
      "        nan        nan        nan        nan        nan        nan\n",
      "        nan        nan        nan        nan        nan        nan\n",
      "        nan        nan        nan        nan        nan        nan\n",
      "        nan        nan        nan        nan        nan        nan\n",
      " 0.71316988 0.72790114 0.7302165  0.71299462 0.70802363 0.71388162\n",
      " 0.71193174 0.71246208 0.70606823 0.71778925 0.72080533 0.69560095\n",
      " 0.71156657 0.69240978 0.71742834 0.71139746 0.7232868  0.72044867\n",
      " 0.7183177  0.72754322 0.70411678 0.70500677 0.72293156 0.71104238\n",
      " 0.70482363 0.70588935 0.69435556 0.69684193 0.7026933  0.71317193\n",
      " 0.70145768 0.70411694 0.70483136 0.69701687 0.72204142 0.71494718\n",
      " 0.71423638 0.71334608 0.70891409 0.7090914  0.69967723 0.72737001\n",
      " 0.70891015 0.72169311 0.71050794 0.7011015  0.7133423  0.70518297\n",
      "        nan        nan        nan        nan        nan        nan\n",
      "        nan        nan        nan        nan        nan        nan\n",
      "        nan        nan        nan        nan        nan        nan\n",
      "        nan        nan        nan        nan        nan        nan\n",
      " 0.71477318 0.71051141 0.72328728 0.71369927 0.72470965 0.71086302\n",
      " 0.71139352 0.70411772 0.70784806 0.71441621 0.71353    0.71139368\n",
      " 0.72044977 0.71778279 0.72346899 0.71725072 0.716188   0.70518486\n",
      " 0.71139257 0.70056737 0.71831912 0.71050747 0.72044662 0.72808475\n",
      " 0.69950686 0.72009422 0.71973724 0.70944506 0.71761148 0.71015507\n",
      " 0.72808396 0.71246113 0.70855728 0.70749361 0.71760848 0.72594637\n",
      " 0.72861051 0.71263907 0.71991801 0.71192922 0.72630319 0.72240249\n",
      " 0.73234037 0.70766823 0.7193872  0.71885056 0.71990982 0.70838659\n",
      "        nan        nan        nan        nan        nan        nan\n",
      "        nan        nan        nan        nan        nan        nan\n",
      "        nan        nan        nan        nan        nan        nan\n",
      "        nan        nan        nan        nan        nan        nan\n",
      " 0.71867073 0.65637233 0.67588893 0.69524209 0.71477571 0.66471432\n",
      " 0.69436218 0.69365123 0.68832295 0.6693285  0.6783849  0.67785882\n",
      " 0.69666478 0.64395675 0.70358865 0.6943584  0.67660429 0.69116408\n",
      " 0.68034203 0.70287186 0.67235339 0.65193499 0.66932897 0.68246685\n",
      " 0.66116192 0.63899017 0.7169021  0.70873159 0.65407099 0.69737085\n",
      " 0.66685348 0.65034634 0.66808043 0.68442051 0.66079786 0.64555013\n",
      " 0.67448546 0.67517703 0.67322384 0.69008969 0.68636062 0.66453544\n",
      " 0.69879133 0.68690499 0.68885943 0.68939387 0.6593832  0.66471857\n",
      "        nan        nan        nan        nan        nan        nan\n",
      "        nan        nan        nan        nan        nan        nan\n",
      "        nan        nan        nan        nan        nan        nan\n",
      "        nan        nan        nan        nan        nan        nan\n",
      " 0.68885928 0.71317539 0.69808684 0.70270102 0.72453219 0.68264368\n",
      " 0.68725597 0.67944495 0.73021083 0.70891125 0.6938175  0.70234042\n",
      " 0.71867389 0.70890668 0.71281826 0.6940008  0.71227421 0.71121637\n",
      " 0.70198692 0.69666179 0.70784396 0.69063311 0.7158367  0.68069727\n",
      " 0.70518171 0.69826273 0.69152625 0.71619272 0.69435856 0.69293776\n",
      " 0.7163683  0.69826367 0.70394562 0.69524098 0.70287423 0.70731409\n",
      " 0.70127833 0.71122157 0.70127817 0.70500157 0.6872525  0.69827108\n",
      " 0.70056737 0.73003699 0.68565124 0.70500582 0.70518061 0.68867441\n",
      "        nan        nan        nan        nan        nan        nan\n",
      "        nan        nan        nan        nan        nan        nan\n",
      "        nan        nan        nan        nan        nan        nan\n",
      "        nan        nan        nan        nan        nan        nan\n",
      " 0.71157098 0.70997351 0.71440943 0.71494844 0.7341172  0.69915067\n",
      " 0.6991502  0.71228714 0.70393585 0.70483073 0.70110087 0.70022017\n",
      " 0.71476593 0.72701367 0.71086066 0.70873631 0.70021671 0.70323451\n",
      " 0.71955489 0.70820251 0.72470981 0.72275599 0.70393932 0.72044646\n",
      " 0.72736812 0.71139289 0.71707736 0.70802568 0.70518423 0.72168964\n",
      " 0.72240233 0.71637192 0.71192843 0.69879984 0.72364173 0.72133456\n",
      " 0.72843605 0.70607548 0.71654938 0.7124668  0.69578314 0.70252309\n",
      " 0.70447533 0.72470603 0.70234153 0.69648117 0.71955694 0.71760959\n",
      "        nan        nan        nan        nan        nan        nan\n",
      "        nan        nan        nan        nan        nan        nan\n",
      "        nan        nan        nan        nan        nan        nan\n",
      "        nan        nan        nan        nan        nan        nan\n",
      " 0.72861036 0.72293298 0.73216559 0.71725482 0.72790476 0.71512417\n",
      " 0.71493946 0.7238184  0.72488601 0.72417285 0.72097869 0.70411646\n",
      " 0.72950114 0.71441054 0.7220463  0.71512496 0.71601479 0.72133235\n",
      " 0.71796357 0.71547547 0.7170761  0.7073174  0.720266   0.71228004\n",
      " 0.71707436 0.73021382 0.71778673 0.72008886 0.71743433 0.70909124\n",
      " 0.73269561 0.71228225 0.71316877 0.71210904 0.73021067 0.70358802\n",
      " 0.703055   0.72257475 0.71175349 0.69933081 0.7271946  0.71671991\n",
      " 0.70571047 0.72541903 0.7124564  0.71973724 0.72328475 0.71033143]\n",
      "  warnings.warn(\n"
     ]
    },
    {
     "name": "stdout",
     "output_type": "stream",
     "text": [
      "Best parameters for Decision Tree: {'class_weight': 'balanced', 'criterion': 'gini', 'max_depth': 4, 'max_features': 'sqrt', 'min_samples_leaf': 2, 'min_samples_split': 4, 'splitter': 'best'}\n",
      "CONFUSION_MATRIX: \n",
      "[[669 367]\n",
      " [ 53 320]]\n",
      "PRECISION_SCORE: 0.4657933042212518\n",
      "RECALL_SCORE: 0.8579088471849866\n",
      "F1_SCORE: 0.6037735849056604\n",
      "ACCURACY_SCORE: 0.7019162526614621\n"
     ]
    },
    {
     "name": "stderr",
     "output_type": "stream",
     "text": [
      "/home/lutful/telco-customer-churn-ml-project/.myenv/lib/python3.12/site-packages/numpy/ma/core.py:2820: RuntimeWarning: invalid value encountered in cast\n",
      "  _data = np.array(data, dtype=dtype, copy=copy,\n"
     ]
    },
    {
     "name": "stdout",
     "output_type": "stream",
     "text": [
      "Best parameters for Random Forest: {'class_weight': 'balanced', 'max_depth': 10, 'min_samples_split': 2, 'n_estimators': 50}\n",
      "CONFUSION_MATRIX: \n",
      "[[825 211]\n",
      " [ 97 276]]\n",
      "PRECISION_SCORE: 0.5667351129363449\n",
      "RECALL_SCORE: 0.739946380697051\n",
      "F1_SCORE: 0.641860465116279\n",
      "ACCURACY_SCORE: 0.7814052519517388\n",
      "Classification Report for the Best Model (Random Forest):\n",
      "              precision    recall  f1-score   support\n",
      "\n",
      "           0       0.89      0.80      0.84      1036\n",
      "           1       0.57      0.74      0.64       373\n",
      "\n",
      "    accuracy                           0.78      1409\n",
      "   macro avg       0.73      0.77      0.74      1409\n",
      "weighted avg       0.81      0.78      0.79      1409\n",
      "\n"
     ]
    }
   ],
   "source": [
    "# Model Training\n",
    "# Train machine learning models using the processed data.\n",
    "\n",
    "\n",
    "# Import necessary libraries for model training\n",
    "from sklearn.linear_model import LogisticRegression\n",
    "from sklearn.tree import DecisionTreeClassifier\n",
    "from sklearn.ensemble import RandomForestClassifier\n",
    "from sklearn.model_selection import GridSearchCV\n",
    "from sklearn.metrics import accuracy_score, confusion_matrix, precision_score, recall_score, f1_score, classification_report\n",
    "\n",
    "# Define a function to display performance metrics\n",
    "def performance_metrics(test, predict):\n",
    "    print(f\"CONFUSION_MATRIX: \\n{confusion_matrix(test, predict)}\")\n",
    "    print(f\"PRECISION_SCORE: {precision_score(test, predict)}\")\n",
    "    print(f\"RECALL_SCORE: {recall_score(test, predict)}\")\n",
    "    print(f\"F1_SCORE: {f1_score(test, predict)}\")\n",
    "    print(f\"ACCURACY_SCORE: {accuracy_score(test, predict)}\")\n",
    "\n",
    "# Logistic Regression\n",
    "lr = LogisticRegression()\n",
    "param_grid_lr = {\n",
    "    \"class_weight\": [\"balanced\"],\n",
    "    'penalty': ['l1', 'l2'],\n",
    "    'C': [0.001, 0.01, 0.1, 1, 10, 100],\n",
    "    'solver': ['liblinear', 'saga']\n",
    "}\n",
    "grid_lr = GridSearchCV(estimator=lr, param_grid=param_grid_lr, cv=5, n_jobs=-1, verbose=3)\n",
    "grid_lr.fit(X_train, y_train)\n",
    "print(\"Best parameters for Logistic Regression:\", grid_lr.best_params_)\n",
    "y_pred_lr = grid_lr.predict(X_test)\n",
    "performance_metrics(y_test, y_pred_lr)\n",
    "\n",
    "# Decision Tree Classifier\n",
    "dt = DecisionTreeClassifier()\n",
    "param_grid_dt = {\n",
    "    \"class_weight\": [\"balanced\"],\n",
    "    \"criterion\": ['gini', \"entropy\"],\n",
    "    \"splitter\": ['best', 'random'],\n",
    "    \"max_depth\": [3, 4, 5, 6],\n",
    "    \"min_samples_split\": [2, 3, 4, 5],\n",
    "    \"min_samples_leaf\": [1, 2, 3],\n",
    "    \"max_features\": [\"auto\", \"sqrt\", \"log2\"]\n",
    "}\n",
    "grid_dt = GridSearchCV(estimator=dt, param_grid=param_grid_dt, cv=5, scoring=\"accuracy\")\n",
    "grid_dt.fit(X_train, y_train)\n",
    "print(\"Best parameters for Decision Tree:\", grid_dt.best_params_)\n",
    "y_pred_dt = grid_dt.predict(X_test)\n",
    "performance_metrics(y_test, y_pred_dt)\n",
    "\n",
    "# Random Forest Classifier\n",
    "rf = RandomForestClassifier()\n",
    "param_grid_rf = {\n",
    "    \"class_weight\": [\"balanced\"],\n",
    "    'n_estimators': [20, 50, 30],\n",
    "    'max_depth': [10, 8, 5],\n",
    "    'min_samples_split': [2, 5, 10]\n",
    "}\n",
    "grid_rf = GridSearchCV(estimator=rf, param_grid=param_grid_rf, cv=5, scoring=\"accuracy\")\n",
    "grid_rf.fit(X_train, y_train)\n",
    "print(\"Best parameters for Random Forest:\", grid_rf.best_params_)\n",
    "y_pred_rf = grid_rf.predict(X_test)\n",
    "performance_metrics(y_test, y_pred_rf)\n",
    "\n",
    "# Display classification report for the best model\n",
    "print(\"Classification Report for the Best Model (Random Forest):\")\n",
    "print(classification_report(y_test, y_pred_rf))"
   ]
  }
 ],
 "metadata": {
  "kernelspec": {
   "display_name": ".myenv",
   "language": "python",
   "name": "python3"
  },
  "language_info": {
   "codemirror_mode": {
    "name": "ipython",
    "version": 3
   },
   "file_extension": ".py",
   "mimetype": "text/x-python",
   "name": "python",
   "nbconvert_exporter": "python",
   "pygments_lexer": "ipython3",
   "version": "3.12.7"
  }
 },
 "nbformat": 4,
 "nbformat_minor": 2
}
